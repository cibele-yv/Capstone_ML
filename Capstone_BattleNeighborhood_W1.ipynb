{
 "cells": [
  {
   "cell_type": "markdown",
   "metadata": {},
   "source": [
    "<h1>The Battle of Neighborhoods (Week 1)</h1>"
   ]
  },
  {
   "cell_type": "markdown",
   "metadata": {},
   "source": [
    "<h2>Predicting the ideal restaurant to invest in Manhattan</h2>"
   ]
  },
  {
   "cell_type": "markdown",
   "metadata": {},
   "source": [
    "<h3>1. Project Overview</h3>"
   ]
  },
  {
   "cell_type": "markdown",
   "metadata": {},
   "source": [
    "<h4>1.1. BackGround</h4>"
   ]
  },
  {
   "cell_type": "markdown",
   "metadata": {},
   "source": [
    "Manhattan often referred to by residents of the New York City area as the City, is the most densely populated of the five boroughs of New York City, and coextensive with the County of New York, one of the original counties of the U.S. state of New York. Manhattan serves as the city's economic and administrative center, cultural identifier, and historical birthplace. Manhattan has been described as the cultural, financial, media, and entertainment capital of the world. Many districts and landmarks in Manhattan are well known, as New York City received a record 62.8 million tourists in 2017, and Manhattan hosts three of the world's 10 most-visited tourist attractions in 2013: Times Square, Central Park, and Grand Central Terminal. It seems to be the best place for small and big investors. For this reason, we will evaluate the demand vs. restaurant market in the Manhattam Neighborhood and predict the best options for opening a local restaurant"
   ]
  },
  {
   "cell_type": "markdown",
   "metadata": {},
   "source": [
    "<h4>1.2. Problem and Interest</h4>"
   ]
  },
  {
   "cell_type": "markdown",
   "metadata": {},
   "source": [
    "This Data Analysis applied in Mannhattan Neighborhood may help investors and entrepeuners who recently migrated or are planning to migrate to Manhattan to invest in the local market."
   ]
  },
  {
   "cell_type": "markdown",
   "metadata": {},
   "source": [
    "<h3> 2. Data Acquisition and wrangling<h3/>"
   ]
  },
  {
   "cell_type": "markdown",
   "metadata": {},
   "source": [
    "<h4>2.1. Data Sources<h4/>"
   ]
  },
  {
   "cell_type": "markdown",
   "metadata": {},
   "source": [
    "In this project we are going to use the United States census for market demand information that can be found in these links: https://www.census.gov/quickfacts/fact/table/newyorkcountymanhattanboroughnewyork/PST045219#PST045219  \n",
    "https://factfinder.census.gov/faces/nav/jsf/pages/community_facts.xhtml?src=bkmk\n",
    "\n",
    "And to Download and Explore the Mannhattan Dataset, using the foursquare API, as well."
   ]
  },
  {
   "cell_type": "markdown",
   "metadata": {},
   "source": [
    "<h4>2.2. Data Wrangling</h4>"
   ]
  },
  {
   "cell_type": "markdown",
   "metadata": {},
   "source": [
    "Firstly, to scrape the  Manhattan census data to help predict which is better kind of restaurant to invest."
   ]
  },
  {
   "cell_type": "markdown",
   "metadata": {},
   "source": [
    "Second, to drop all information that is not relevant for the business value."
   ]
  },
  {
   "cell_type": "markdown",
   "metadata": {},
   "source": [
    "<h3>3. Exploratory Data Analysis<h3/>"
   ]
  },
  {
   "cell_type": "markdown",
   "metadata": {},
   "source": [
    "<h4>3.1. Calculation of target audience<h4/> "
   ]
  },
  {
   "cell_type": "markdown",
   "metadata": {},
   "source": [
    "Analyzing some Population Characteristics, such Race, Age & Sex and Economy data, such as Business, Industry, Average Income & retail sales per capita, analyzing:\n",
    "- Relationship between Age & Sex;\n",
    "- Relationship between Race and Origin Culture\n",
    "- Relationship between Income & retail sales per capita"
   ]
  },
  {
   "cell_type": "markdown",
   "metadata": {},
   "source": [
    "<h3>4. Predicting Models</h3>"
   ]
  },
  {
   "cell_type": "markdown",
   "metadata": {},
   "source": [
    "There are many models for clustering out there. In this project, we will be presenting the model that is considered one of the simplest models amongst them. Despite its simplicity, the K-means is vastly used for clustering in many data science applications, especially useful if you need to quickly discover insights from unlabeled data.\n",
    "\n",
    "Applications of k-means for to predict the ideal restaurant to invest:\n",
    "\n",
    "- Customer segmentation\n",
    "- Pattern recognition\n",
    "- Machine learning\n",
    "- Data compression"
   ]
  },
  {
   "cell_type": "code",
   "execution_count": null,
   "metadata": {},
   "outputs": [],
   "source": []
  }
 ],
 "metadata": {
  "kernelspec": {
   "display_name": "Python",
   "language": "python",
   "name": "conda-env-python-py"
  },
  "language_info": {
   "codemirror_mode": {
    "name": "ipython",
    "version": 3
   },
   "file_extension": ".py",
   "mimetype": "text/x-python",
   "name": "python",
   "nbconvert_exporter": "python",
   "pygments_lexer": "ipython3",
   "version": "3.6.7"
  }
 },
 "nbformat": 4,
 "nbformat_minor": 4
}
